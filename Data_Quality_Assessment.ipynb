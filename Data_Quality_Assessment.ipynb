{
  "nbformat": 4,
  "nbformat_minor": 0,
  "metadata": {
    "colab": {
      "provenance": []
    },
    "kernelspec": {
      "name": "python3",
      "display_name": "Python 3"
    },
    "language_info": {
      "name": "python"
    }
  },
  "cells": [
    {
      "cell_type": "markdown",
      "source": [
        "### ***Author: Akhila K Choudhury***\n",
        "This notebook takes a sample data and does some quality checks using Great Expectations functions"
      ],
      "metadata": {
        "id": "iwUMPbD1zrME"
      }
    },
    {
      "cell_type": "markdown",
      "source": [
        "### Import libraries and data"
      ],
      "metadata": {
        "id": "TaMM5QTRzZuk"
      }
    },
    {
      "cell_type": "code",
      "source": [
        "!pip install great_expectations"
      ],
      "metadata": {
        "colab": {
          "base_uri": "https://localhost:8080/",
          "height": 1000
        },
        "id": "9gSyJjmsf7Zz",
        "outputId": "479eb5b7-d0a2-49ad-ecd6-b27a450c8a1e"
      },
      "execution_count": 3,
      "outputs": [
        {
          "output_type": "stream",
          "name": "stdout",
          "text": [
            "Looking in indexes: https://pypi.org/simple, https://us-python.pkg.dev/colab-wheels/public/simple/\n",
            "Collecting great_expectations\n",
            "  Downloading great_expectations-0.16.13-py3-none-any.whl (5.3 MB)\n",
            "\u001b[2K     \u001b[90m━━━━━━━━━━━━━━━━━━━━━━━━━━━━━━━━━━━━━━━━\u001b[0m \u001b[32m5.3/5.3 MB\u001b[0m \u001b[31m52.4 MB/s\u001b[0m eta \u001b[36m0:00:00\u001b[0m\n",
            "\u001b[?25hRequirement already satisfied: altair<5.0.0,>=4.2.1 in /usr/local/lib/python3.10/dist-packages (from great_expectations) (4.2.2)\n",
            "Requirement already satisfied: Click>=7.1.2 in /usr/local/lib/python3.10/dist-packages (from great_expectations) (8.1.3)\n",
            "Collecting colorama>=0.4.3 (from great_expectations)\n",
            "  Downloading colorama-0.4.6-py2.py3-none-any.whl (25 kB)\n",
            "Requirement already satisfied: cryptography>=3.2 in /usr/local/lib/python3.10/dist-packages (from great_expectations) (40.0.2)\n",
            "Collecting importlib-metadata>=1.7.0 (from great_expectations)\n",
            "  Downloading importlib_metadata-6.6.0-py3-none-any.whl (22 kB)\n",
            "Requirement already satisfied: Ipython>=7.16.3 in /usr/local/lib/python3.10/dist-packages (from great_expectations) (7.34.0)\n",
            "Requirement already satisfied: ipywidgets>=7.5.1 in /usr/local/lib/python3.10/dist-packages (from great_expectations) (7.7.1)\n",
            "Requirement already satisfied: jinja2>=2.10 in /usr/local/lib/python3.10/dist-packages (from great_expectations) (3.1.2)\n",
            "Collecting jsonpatch>=1.22 (from great_expectations)\n",
            "  Downloading jsonpatch-1.32-py2.py3-none-any.whl (12 kB)\n",
            "Requirement already satisfied: jsonschema>=2.5.1 in /usr/local/lib/python3.10/dist-packages (from great_expectations) (4.3.3)\n",
            "Collecting makefun<2,>=1.7.0 (from great_expectations)\n",
            "  Downloading makefun-1.15.1-py2.py3-none-any.whl (22 kB)\n",
            "Collecting marshmallow<4.0.0,>=3.7.1 (from great_expectations)\n",
            "  Downloading marshmallow-3.19.0-py3-none-any.whl (49 kB)\n",
            "\u001b[2K     \u001b[90m━━━━━━━━━━━━━━━━━━━━━━━━━━━━━━━━━━━━━━━━\u001b[0m \u001b[32m49.1/49.1 kB\u001b[0m \u001b[31m6.6 MB/s\u001b[0m eta \u001b[36m0:00:00\u001b[0m\n",
            "\u001b[?25hRequirement already satisfied: mistune>=0.8.4 in /usr/local/lib/python3.10/dist-packages (from great_expectations) (0.8.4)\n",
            "Requirement already satisfied: nbformat>=5.0 in /usr/local/lib/python3.10/dist-packages (from great_expectations) (5.8.0)\n",
            "Collecting notebook>=6.4.10 (from great_expectations)\n",
            "  Downloading notebook-6.5.4-py3-none-any.whl (529 kB)\n",
            "\u001b[2K     \u001b[90m━━━━━━━━━━━━━━━━━━━━━━━━━━━━━━━━━━━━━━\u001b[0m \u001b[32m529.8/529.8 kB\u001b[0m \u001b[31m49.5 MB/s\u001b[0m eta \u001b[36m0:00:00\u001b[0m\n",
            "\u001b[?25hRequirement already satisfied: packaging in /usr/local/lib/python3.10/dist-packages (from great_expectations) (23.1)\n",
            "Requirement already satisfied: pydantic<2.0,>=1.9.2 in /usr/local/lib/python3.10/dist-packages (from great_expectations) (1.10.7)\n",
            "Requirement already satisfied: pyparsing>=2.4 in /usr/local/lib/python3.10/dist-packages (from great_expectations) (3.0.9)\n",
            "Requirement already satisfied: python-dateutil>=2.8.1 in /usr/local/lib/python3.10/dist-packages (from great_expectations) (2.8.2)\n",
            "Requirement already satisfied: pytz>=2021.3 in /usr/local/lib/python3.10/dist-packages (from great_expectations) (2022.7.1)\n",
            "Requirement already satisfied: requests>=2.20 in /usr/local/lib/python3.10/dist-packages (from great_expectations) (2.27.1)\n",
            "Collecting ruamel.yaml<0.17.18,>=0.16 (from great_expectations)\n",
            "  Downloading ruamel.yaml-0.17.17-py3-none-any.whl (109 kB)\n",
            "\u001b[2K     \u001b[90m━━━━━━━━━━━━━━━━━━━━━━━━━━━━━━━━━━━━━━\u001b[0m \u001b[32m109.1/109.1 kB\u001b[0m \u001b[31m14.3 MB/s\u001b[0m eta \u001b[36m0:00:00\u001b[0m\n",
            "\u001b[?25hRequirement already satisfied: scipy>=1.6.0 in /usr/local/lib/python3.10/dist-packages (from great_expectations) (1.10.1)\n",
            "Requirement already satisfied: tqdm>=4.59.0 in /usr/local/lib/python3.10/dist-packages (from great_expectations) (4.65.0)\n",
            "Requirement already satisfied: typing-extensions>=3.10.0.0 in /usr/local/lib/python3.10/dist-packages (from great_expectations) (4.5.0)\n",
            "Requirement already satisfied: tzlocal>=1.2 in /usr/local/lib/python3.10/dist-packages (from great_expectations) (4.3)\n",
            "Requirement already satisfied: urllib3>=1.26 in /usr/local/lib/python3.10/dist-packages (from great_expectations) (1.26.15)\n",
            "Collecting numpy>=1.23.0 (from great_expectations)\n",
            "  Downloading numpy-1.24.3-cp310-cp310-manylinux_2_17_x86_64.manylinux2014_x86_64.whl (17.3 MB)\n",
            "\u001b[2K     \u001b[90m━━━━━━━━━━━━━━━━━━━━━━━━━━━━━━━━━━━━━━━━\u001b[0m \u001b[32m17.3/17.3 MB\u001b[0m \u001b[31m79.7 MB/s\u001b[0m eta \u001b[36m0:00:00\u001b[0m\n",
            "\u001b[?25hRequirement already satisfied: pandas<2.0.0,>=1.3.0 in /usr/local/lib/python3.10/dist-packages (from great_expectations) (1.5.3)\n",
            "Requirement already satisfied: entrypoints in /usr/local/lib/python3.10/dist-packages (from altair<5.0.0,>=4.2.1->great_expectations) (0.4)\n",
            "Requirement already satisfied: toolz in /usr/local/lib/python3.10/dist-packages (from altair<5.0.0,>=4.2.1->great_expectations) (0.12.0)\n",
            "Requirement already satisfied: cffi>=1.12 in /usr/local/lib/python3.10/dist-packages (from cryptography>=3.2->great_expectations) (1.15.1)\n",
            "Requirement already satisfied: zipp>=0.5 in /usr/local/lib/python3.10/dist-packages (from importlib-metadata>=1.7.0->great_expectations) (3.15.0)\n",
            "Requirement already satisfied: setuptools>=18.5 in /usr/local/lib/python3.10/dist-packages (from Ipython>=7.16.3->great_expectations) (67.7.2)\n",
            "Collecting jedi>=0.16 (from Ipython>=7.16.3->great_expectations)\n",
            "  Downloading jedi-0.18.2-py2.py3-none-any.whl (1.6 MB)\n",
            "\u001b[2K     \u001b[90m━━━━━━━━━━━━━━━━━━━━━━━━━━━━━━━━━━━━━━━━\u001b[0m \u001b[32m1.6/1.6 MB\u001b[0m \u001b[31m87.9 MB/s\u001b[0m eta \u001b[36m0:00:00\u001b[0m\n",
            "\u001b[?25hRequirement already satisfied: decorator in /usr/local/lib/python3.10/dist-packages (from Ipython>=7.16.3->great_expectations) (4.4.2)\n",
            "Requirement already satisfied: pickleshare in /usr/local/lib/python3.10/dist-packages (from Ipython>=7.16.3->great_expectations) (0.7.5)\n",
            "Requirement already satisfied: traitlets>=4.2 in /usr/local/lib/python3.10/dist-packages (from Ipython>=7.16.3->great_expectations) (5.7.1)\n",
            "Requirement already satisfied: prompt-toolkit!=3.0.0,!=3.0.1,<3.1.0,>=2.0.0 in /usr/local/lib/python3.10/dist-packages (from Ipython>=7.16.3->great_expectations) (3.0.38)\n",
            "Requirement already satisfied: pygments in /usr/local/lib/python3.10/dist-packages (from Ipython>=7.16.3->great_expectations) (2.14.0)\n",
            "Requirement already satisfied: backcall in /usr/local/lib/python3.10/dist-packages (from Ipython>=7.16.3->great_expectations) (0.2.0)\n",
            "Requirement already satisfied: matplotlib-inline in /usr/local/lib/python3.10/dist-packages (from Ipython>=7.16.3->great_expectations) (0.1.6)\n",
            "Requirement already satisfied: pexpect>4.3 in /usr/local/lib/python3.10/dist-packages (from Ipython>=7.16.3->great_expectations) (4.8.0)\n",
            "Requirement already satisfied: ipykernel>=4.5.1 in /usr/local/lib/python3.10/dist-packages (from ipywidgets>=7.5.1->great_expectations) (5.5.6)\n",
            "Requirement already satisfied: ipython-genutils~=0.2.0 in /usr/local/lib/python3.10/dist-packages (from ipywidgets>=7.5.1->great_expectations) (0.2.0)\n",
            "Requirement already satisfied: widgetsnbextension~=3.6.0 in /usr/local/lib/python3.10/dist-packages (from ipywidgets>=7.5.1->great_expectations) (3.6.4)\n",
            "Requirement already satisfied: jupyterlab-widgets>=1.0.0 in /usr/local/lib/python3.10/dist-packages (from ipywidgets>=7.5.1->great_expectations) (3.0.7)\n",
            "Requirement already satisfied: MarkupSafe>=2.0 in /usr/local/lib/python3.10/dist-packages (from jinja2>=2.10->great_expectations) (2.1.2)\n",
            "Collecting jsonpointer>=1.9 (from jsonpatch>=1.22->great_expectations)\n",
            "  Downloading jsonpointer-2.3-py2.py3-none-any.whl (7.8 kB)\n",
            "Requirement already satisfied: attrs>=17.4.0 in /usr/local/lib/python3.10/dist-packages (from jsonschema>=2.5.1->great_expectations) (23.1.0)\n",
            "Requirement already satisfied: pyrsistent!=0.17.0,!=0.17.1,!=0.17.2,>=0.14.0 in /usr/local/lib/python3.10/dist-packages (from jsonschema>=2.5.1->great_expectations) (0.19.3)\n",
            "Requirement already satisfied: fastjsonschema in /usr/local/lib/python3.10/dist-packages (from nbformat>=5.0->great_expectations) (2.16.3)\n",
            "Requirement already satisfied: jupyter-core in /usr/local/lib/python3.10/dist-packages (from nbformat>=5.0->great_expectations) (5.3.0)\n",
            "Requirement already satisfied: tornado>=6.1 in /usr/local/lib/python3.10/dist-packages (from notebook>=6.4.10->great_expectations) (6.3.1)\n",
            "Requirement already satisfied: pyzmq>=17 in /usr/local/lib/python3.10/dist-packages (from notebook>=6.4.10->great_expectations) (23.2.1)\n",
            "Requirement already satisfied: argon2-cffi in /usr/local/lib/python3.10/dist-packages (from notebook>=6.4.10->great_expectations) (21.3.0)\n",
            "Requirement already satisfied: jupyter-client>=5.3.4 in /usr/local/lib/python3.10/dist-packages (from notebook>=6.4.10->great_expectations) (6.1.12)\n",
            "Requirement already satisfied: nbconvert>=5 in /usr/local/lib/python3.10/dist-packages (from notebook>=6.4.10->great_expectations) (6.5.4)\n",
            "Requirement already satisfied: nest-asyncio>=1.5 in /usr/local/lib/python3.10/dist-packages (from notebook>=6.4.10->great_expectations) (1.5.6)\n",
            "Requirement already satisfied: Send2Trash>=1.8.0 in /usr/local/lib/python3.10/dist-packages (from notebook>=6.4.10->great_expectations) (1.8.0)\n",
            "Requirement already satisfied: terminado>=0.8.3 in /usr/local/lib/python3.10/dist-packages (from notebook>=6.4.10->great_expectations) (0.17.1)\n",
            "Requirement already satisfied: prometheus-client in /usr/local/lib/python3.10/dist-packages (from notebook>=6.4.10->great_expectations) (0.16.0)\n",
            "Collecting nbclassic>=0.4.7 (from notebook>=6.4.10->great_expectations)\n",
            "  Downloading nbclassic-1.0.0-py3-none-any.whl (10.0 MB)\n",
            "\u001b[2K     \u001b[90m━━━━━━━━━━━━━━━━━━━━━━━━━━━━━━━━━━━━━━━\u001b[0m \u001b[32m10.0/10.0 MB\u001b[0m \u001b[31m103.3 MB/s\u001b[0m eta \u001b[36m0:00:00\u001b[0m\n",
            "\u001b[?25hRequirement already satisfied: six>=1.5 in /usr/local/lib/python3.10/dist-packages (from python-dateutil>=2.8.1->great_expectations) (1.16.0)\n",
            "Requirement already satisfied: certifi>=2017.4.17 in /usr/local/lib/python3.10/dist-packages (from requests>=2.20->great_expectations) (2022.12.7)\n",
            "Requirement already satisfied: charset-normalizer~=2.0.0 in /usr/local/lib/python3.10/dist-packages (from requests>=2.20->great_expectations) (2.0.12)\n",
            "Requirement already satisfied: idna<4,>=2.5 in /usr/local/lib/python3.10/dist-packages (from requests>=2.20->great_expectations) (3.4)\n",
            "Requirement already satisfied: pytz-deprecation-shim in /usr/local/lib/python3.10/dist-packages (from tzlocal>=1.2->great_expectations) (0.1.0.post0)\n",
            "Requirement already satisfied: pycparser in /usr/local/lib/python3.10/dist-packages (from cffi>=1.12->cryptography>=3.2->great_expectations) (2.21)\n",
            "Requirement already satisfied: parso<0.9.0,>=0.8.0 in /usr/local/lib/python3.10/dist-packages (from jedi>=0.16->Ipython>=7.16.3->great_expectations) (0.8.3)\n",
            "Requirement already satisfied: platformdirs>=2.5 in /usr/local/lib/python3.10/dist-packages (from jupyter-core->nbformat>=5.0->great_expectations) (3.3.0)\n",
            "Requirement already satisfied: jupyter-server>=1.8 in /usr/local/lib/python3.10/dist-packages (from nbclassic>=0.4.7->notebook>=6.4.10->great_expectations) (1.24.0)\n",
            "Collecting notebook-shim>=0.2.3 (from nbclassic>=0.4.7->notebook>=6.4.10->great_expectations)\n",
            "  Downloading notebook_shim-0.2.3-py3-none-any.whl (13 kB)\n",
            "Requirement already satisfied: lxml in /usr/local/lib/python3.10/dist-packages (from nbconvert>=5->notebook>=6.4.10->great_expectations) (4.9.2)\n",
            "Requirement already satisfied: beautifulsoup4 in /usr/local/lib/python3.10/dist-packages (from nbconvert>=5->notebook>=6.4.10->great_expectations) (4.11.2)\n",
            "Requirement already satisfied: bleach in /usr/local/lib/python3.10/dist-packages (from nbconvert>=5->notebook>=6.4.10->great_expectations) (6.0.0)\n",
            "Requirement already satisfied: defusedxml in /usr/local/lib/python3.10/dist-packages (from nbconvert>=5->notebook>=6.4.10->great_expectations) (0.7.1)\n",
            "Requirement already satisfied: jupyterlab-pygments in /usr/local/lib/python3.10/dist-packages (from nbconvert>=5->notebook>=6.4.10->great_expectations) (0.2.2)\n",
            "Requirement already satisfied: nbclient>=0.5.0 in /usr/local/lib/python3.10/dist-packages (from nbconvert>=5->notebook>=6.4.10->great_expectations) (0.7.4)\n",
            "Requirement already satisfied: pandocfilters>=1.4.1 in /usr/local/lib/python3.10/dist-packages (from nbconvert>=5->notebook>=6.4.10->great_expectations) (1.5.0)\n",
            "Requirement already satisfied: tinycss2 in /usr/local/lib/python3.10/dist-packages (from nbconvert>=5->notebook>=6.4.10->great_expectations) (1.2.1)\n",
            "Requirement already satisfied: ptyprocess>=0.5 in /usr/local/lib/python3.10/dist-packages (from pexpect>4.3->Ipython>=7.16.3->great_expectations) (0.7.0)\n",
            "Requirement already satisfied: wcwidth in /usr/local/lib/python3.10/dist-packages (from prompt-toolkit!=3.0.0,!=3.0.1,<3.1.0,>=2.0.0->Ipython>=7.16.3->great_expectations) (0.2.6)\n",
            "Requirement already satisfied: argon2-cffi-bindings in /usr/local/lib/python3.10/dist-packages (from argon2-cffi->notebook>=6.4.10->great_expectations) (21.2.0)\n",
            "Requirement already satisfied: tzdata in /usr/local/lib/python3.10/dist-packages (from pytz-deprecation-shim->tzlocal>=1.2->great_expectations) (2023.3)\n",
            "Requirement already satisfied: anyio<4,>=3.1.0 in /usr/local/lib/python3.10/dist-packages (from jupyter-server>=1.8->nbclassic>=0.4.7->notebook>=6.4.10->great_expectations) (3.6.2)\n",
            "Requirement already satisfied: websocket-client in /usr/local/lib/python3.10/dist-packages (from jupyter-server>=1.8->nbclassic>=0.4.7->notebook>=6.4.10->great_expectations) (1.5.1)\n",
            "Requirement already satisfied: soupsieve>1.2 in /usr/local/lib/python3.10/dist-packages (from beautifulsoup4->nbconvert>=5->notebook>=6.4.10->great_expectations) (2.4.1)\n",
            "Requirement already satisfied: webencodings in /usr/local/lib/python3.10/dist-packages (from bleach->nbconvert>=5->notebook>=6.4.10->great_expectations) (0.5.1)\n",
            "Requirement already satisfied: sniffio>=1.1 in /usr/local/lib/python3.10/dist-packages (from anyio<4,>=3.1.0->jupyter-server>=1.8->nbclassic>=0.4.7->notebook>=6.4.10->great_expectations) (1.3.0)\n",
            "Installing collected packages: makefun, ruamel.yaml, numpy, marshmallow, jsonpointer, jedi, importlib-metadata, colorama, jsonpatch, notebook-shim, nbclassic, notebook, great_expectations\n",
            "  Attempting uninstall: numpy\n",
            "    Found existing installation: numpy 1.22.4\n",
            "    Uninstalling numpy-1.22.4:\n",
            "      Successfully uninstalled numpy-1.22.4\n",
            "  Attempting uninstall: notebook\n",
            "    Found existing installation: notebook 6.4.8\n",
            "    Uninstalling notebook-6.4.8:\n",
            "      Successfully uninstalled notebook-6.4.8\n",
            "\u001b[31mERROR: pip's dependency resolver does not currently take into account all the packages that are installed. This behaviour is the source of the following dependency conflicts.\n",
            "google-colab 1.0.0 requires notebook==6.4.8, but you have notebook 6.5.4 which is incompatible.\n",
            "numba 0.56.4 requires numpy<1.24,>=1.18, but you have numpy 1.24.3 which is incompatible.\n",
            "tensorflow 2.12.0 requires numpy<1.24,>=1.22, but you have numpy 1.24.3 which is incompatible.\u001b[0m\u001b[31m\n",
            "\u001b[0mSuccessfully installed colorama-0.4.6 great_expectations-0.16.13 importlib-metadata-6.6.0 jedi-0.18.2 jsonpatch-1.32 jsonpointer-2.3 makefun-1.15.1 marshmallow-3.19.0 nbclassic-1.0.0 notebook-6.5.4 notebook-shim-0.2.3 numpy-1.24.3 ruamel.yaml-0.17.17\n"
          ]
        },
        {
          "output_type": "display_data",
          "data": {
            "application/vnd.colab-display-data+json": {
              "pip_warning": {
                "packages": [
                  "numpy"
                ]
              }
            }
          },
          "metadata": {}
        }
      ]
    },
    {
      "cell_type": "code",
      "source": [
        "import great_expectations as ge\n",
        "import pandas as pd\n",
        "from great_expectations.profile.json_schema_profiler import JsonSchemaProfiler\n",
        "import json"
      ],
      "metadata": {
        "colab": {
          "base_uri": "https://localhost:8080/"
        },
        "id": "egssB74PoqUB",
        "outputId": "09f46f03-2427-41a0-c8e9-c0caeaf52a9f"
      },
      "execution_count": 1,
      "outputs": [
        {
          "output_type": "stream",
          "name": "stderr",
          "text": [
            "/usr/local/lib/python3.10/dist-packages/great_expectations/compatibility/sqlalchemy.py:20: UserWarning: SQLAlchemy v2.0.0 or later is not yet supported by Great Expectations.\n",
            "  warnings.warn(\n",
            "WARNING:py.warnings:/usr/local/lib/python3.10/dist-packages/great_expectations/compatibility/sqlalchemy.py:20: UserWarning: SQLAlchemy v2.0.0 or later is not yet supported by Great Expectations.\n",
            "  warnings.warn(\n",
            "\n"
          ]
        }
      ]
    },
    {
      "cell_type": "markdown",
      "source": [
        "### **Sample Data**"
      ],
      "metadata": {
        "id": "Bt9ipDTWN-Uo"
      }
    },
    {
      "cell_type": "code",
      "source": [
        "url = \"https://github.com/Akhilcet307/data_quality_assessment/blob/54281e6a596553ff3dd75672f3f568ff7d6d7764/Product.xlsx?raw=true\"\n",
        "# read from url\n",
        "df=pd.read_excel(url)\n",
        "df.head()"
      ],
      "metadata": {
        "colab": {
          "base_uri": "https://localhost:8080/",
          "height": 386
        },
        "id": "cKYeYs4Yiiya",
        "outputId": "1c4d0e8b-9306-4152-dd36-cbd3e3406f50"
      },
      "execution_count": 4,
      "outputs": [
        {
          "output_type": "execute_result",
          "data": {
            "text/plain": [
              "   ProductKey ProductAlternateKey  ProductSubcategoryKey  \\\n",
              "0           1             AR-5381                    NaN   \n",
              "1           2             BA-8327                    NaN   \n",
              "2           3             BE-2349                    NaN   \n",
              "3           4             BE-2908                    NaN   \n",
              "4           5             BL-2036                    NaN   \n",
              "\n",
              "  WeightUnitMeasureCode SizeUnitMeasureCode     EnglishProductName  \\\n",
              "0                   NaN                 NaN        Adjustable Race   \n",
              "1                   NaN                 NaN           Bearing Ball   \n",
              "2                   NaN                 NaN        BB Ball Bearing   \n",
              "3                   NaN                 NaN  Headset Ball Bearings   \n",
              "4                   NaN                 NaN                  Blade   \n",
              "\n",
              "   StandardCost  FinishedGoodsFlag Color  SafetyStockLevel  ...  \\\n",
              "0           NaN                  0   NaN              1000  ...   \n",
              "1           NaN                  0   NaN              1000  ...   \n",
              "2           NaN                  0   NaN               800  ...   \n",
              "3           NaN                  0   NaN               800  ...   \n",
              "4           NaN                  0   NaN               800  ...   \n",
              "\n",
              "   DaysToManufacture  ProductLine DealerPrice Class  Style  ModelName  \\\n",
              "0                  0          NaN         NaN   NaN    NaN        NaN   \n",
              "1                  0          NaN         NaN   NaN    NaN        NaN   \n",
              "2                  1          NaN         NaN   NaN    NaN        NaN   \n",
              "3                  0          NaN         NaN   NaN    NaN        NaN   \n",
              "4                  1          NaN         NaN   NaN    NaN        NaN   \n",
              "\n",
              "  EnglishDescription  StartDate EndDate   Status  \n",
              "0                NaN 2003-07-01     NaT  Current  \n",
              "1                NaN 2003-07-01     NaT  Current  \n",
              "2                NaN 2003-07-01     NaT  Current  \n",
              "3                NaN 2003-07-01     NaT  Current  \n",
              "4                NaN 2003-07-01     NaT  Current  \n",
              "\n",
              "[5 rows x 25 columns]"
            ],
            "text/html": [
              "\n",
              "  <div id=\"df-fabfd940-8221-4c96-9c9b-c91e27623c3e\">\n",
              "    <div class=\"colab-df-container\">\n",
              "      <div>\n",
              "<style scoped>\n",
              "    .dataframe tbody tr th:only-of-type {\n",
              "        vertical-align: middle;\n",
              "    }\n",
              "\n",
              "    .dataframe tbody tr th {\n",
              "        vertical-align: top;\n",
              "    }\n",
              "\n",
              "    .dataframe thead th {\n",
              "        text-align: right;\n",
              "    }\n",
              "</style>\n",
              "<table border=\"1\" class=\"dataframe\">\n",
              "  <thead>\n",
              "    <tr style=\"text-align: right;\">\n",
              "      <th></th>\n",
              "      <th>ProductKey</th>\n",
              "      <th>ProductAlternateKey</th>\n",
              "      <th>ProductSubcategoryKey</th>\n",
              "      <th>WeightUnitMeasureCode</th>\n",
              "      <th>SizeUnitMeasureCode</th>\n",
              "      <th>EnglishProductName</th>\n",
              "      <th>StandardCost</th>\n",
              "      <th>FinishedGoodsFlag</th>\n",
              "      <th>Color</th>\n",
              "      <th>SafetyStockLevel</th>\n",
              "      <th>...</th>\n",
              "      <th>DaysToManufacture</th>\n",
              "      <th>ProductLine</th>\n",
              "      <th>DealerPrice</th>\n",
              "      <th>Class</th>\n",
              "      <th>Style</th>\n",
              "      <th>ModelName</th>\n",
              "      <th>EnglishDescription</th>\n",
              "      <th>StartDate</th>\n",
              "      <th>EndDate</th>\n",
              "      <th>Status</th>\n",
              "    </tr>\n",
              "  </thead>\n",
              "  <tbody>\n",
              "    <tr>\n",
              "      <th>0</th>\n",
              "      <td>1</td>\n",
              "      <td>AR-5381</td>\n",
              "      <td>NaN</td>\n",
              "      <td>NaN</td>\n",
              "      <td>NaN</td>\n",
              "      <td>Adjustable Race</td>\n",
              "      <td>NaN</td>\n",
              "      <td>0</td>\n",
              "      <td>NaN</td>\n",
              "      <td>1000</td>\n",
              "      <td>...</td>\n",
              "      <td>0</td>\n",
              "      <td>NaN</td>\n",
              "      <td>NaN</td>\n",
              "      <td>NaN</td>\n",
              "      <td>NaN</td>\n",
              "      <td>NaN</td>\n",
              "      <td>NaN</td>\n",
              "      <td>2003-07-01</td>\n",
              "      <td>NaT</td>\n",
              "      <td>Current</td>\n",
              "    </tr>\n",
              "    <tr>\n",
              "      <th>1</th>\n",
              "      <td>2</td>\n",
              "      <td>BA-8327</td>\n",
              "      <td>NaN</td>\n",
              "      <td>NaN</td>\n",
              "      <td>NaN</td>\n",
              "      <td>Bearing Ball</td>\n",
              "      <td>NaN</td>\n",
              "      <td>0</td>\n",
              "      <td>NaN</td>\n",
              "      <td>1000</td>\n",
              "      <td>...</td>\n",
              "      <td>0</td>\n",
              "      <td>NaN</td>\n",
              "      <td>NaN</td>\n",
              "      <td>NaN</td>\n",
              "      <td>NaN</td>\n",
              "      <td>NaN</td>\n",
              "      <td>NaN</td>\n",
              "      <td>2003-07-01</td>\n",
              "      <td>NaT</td>\n",
              "      <td>Current</td>\n",
              "    </tr>\n",
              "    <tr>\n",
              "      <th>2</th>\n",
              "      <td>3</td>\n",
              "      <td>BE-2349</td>\n",
              "      <td>NaN</td>\n",
              "      <td>NaN</td>\n",
              "      <td>NaN</td>\n",
              "      <td>BB Ball Bearing</td>\n",
              "      <td>NaN</td>\n",
              "      <td>0</td>\n",
              "      <td>NaN</td>\n",
              "      <td>800</td>\n",
              "      <td>...</td>\n",
              "      <td>1</td>\n",
              "      <td>NaN</td>\n",
              "      <td>NaN</td>\n",
              "      <td>NaN</td>\n",
              "      <td>NaN</td>\n",
              "      <td>NaN</td>\n",
              "      <td>NaN</td>\n",
              "      <td>2003-07-01</td>\n",
              "      <td>NaT</td>\n",
              "      <td>Current</td>\n",
              "    </tr>\n",
              "    <tr>\n",
              "      <th>3</th>\n",
              "      <td>4</td>\n",
              "      <td>BE-2908</td>\n",
              "      <td>NaN</td>\n",
              "      <td>NaN</td>\n",
              "      <td>NaN</td>\n",
              "      <td>Headset Ball Bearings</td>\n",
              "      <td>NaN</td>\n",
              "      <td>0</td>\n",
              "      <td>NaN</td>\n",
              "      <td>800</td>\n",
              "      <td>...</td>\n",
              "      <td>0</td>\n",
              "      <td>NaN</td>\n",
              "      <td>NaN</td>\n",
              "      <td>NaN</td>\n",
              "      <td>NaN</td>\n",
              "      <td>NaN</td>\n",
              "      <td>NaN</td>\n",
              "      <td>2003-07-01</td>\n",
              "      <td>NaT</td>\n",
              "      <td>Current</td>\n",
              "    </tr>\n",
              "    <tr>\n",
              "      <th>4</th>\n",
              "      <td>5</td>\n",
              "      <td>BL-2036</td>\n",
              "      <td>NaN</td>\n",
              "      <td>NaN</td>\n",
              "      <td>NaN</td>\n",
              "      <td>Blade</td>\n",
              "      <td>NaN</td>\n",
              "      <td>0</td>\n",
              "      <td>NaN</td>\n",
              "      <td>800</td>\n",
              "      <td>...</td>\n",
              "      <td>1</td>\n",
              "      <td>NaN</td>\n",
              "      <td>NaN</td>\n",
              "      <td>NaN</td>\n",
              "      <td>NaN</td>\n",
              "      <td>NaN</td>\n",
              "      <td>NaN</td>\n",
              "      <td>2003-07-01</td>\n",
              "      <td>NaT</td>\n",
              "      <td>Current</td>\n",
              "    </tr>\n",
              "  </tbody>\n",
              "</table>\n",
              "<p>5 rows × 25 columns</p>\n",
              "</div>\n",
              "      <button class=\"colab-df-convert\" onclick=\"convertToInteractive('df-fabfd940-8221-4c96-9c9b-c91e27623c3e')\"\n",
              "              title=\"Convert this dataframe to an interactive table.\"\n",
              "              style=\"display:none;\">\n",
              "        \n",
              "  <svg xmlns=\"http://www.w3.org/2000/svg\" height=\"24px\"viewBox=\"0 0 24 24\"\n",
              "       width=\"24px\">\n",
              "    <path d=\"M0 0h24v24H0V0z\" fill=\"none\"/>\n",
              "    <path d=\"M18.56 5.44l.94 2.06.94-2.06 2.06-.94-2.06-.94-.94-2.06-.94 2.06-2.06.94zm-11 1L8.5 8.5l.94-2.06 2.06-.94-2.06-.94L8.5 2.5l-.94 2.06-2.06.94zm10 10l.94 2.06.94-2.06 2.06-.94-2.06-.94-.94-2.06-.94 2.06-2.06.94z\"/><path d=\"M17.41 7.96l-1.37-1.37c-.4-.4-.92-.59-1.43-.59-.52 0-1.04.2-1.43.59L10.3 9.45l-7.72 7.72c-.78.78-.78 2.05 0 2.83L4 21.41c.39.39.9.59 1.41.59.51 0 1.02-.2 1.41-.59l7.78-7.78 2.81-2.81c.8-.78.8-2.07 0-2.86zM5.41 20L4 18.59l7.72-7.72 1.47 1.35L5.41 20z\"/>\n",
              "  </svg>\n",
              "      </button>\n",
              "      \n",
              "  <style>\n",
              "    .colab-df-container {\n",
              "      display:flex;\n",
              "      flex-wrap:wrap;\n",
              "      gap: 12px;\n",
              "    }\n",
              "\n",
              "    .colab-df-convert {\n",
              "      background-color: #E8F0FE;\n",
              "      border: none;\n",
              "      border-radius: 50%;\n",
              "      cursor: pointer;\n",
              "      display: none;\n",
              "      fill: #1967D2;\n",
              "      height: 32px;\n",
              "      padding: 0 0 0 0;\n",
              "      width: 32px;\n",
              "    }\n",
              "\n",
              "    .colab-df-convert:hover {\n",
              "      background-color: #E2EBFA;\n",
              "      box-shadow: 0px 1px 2px rgba(60, 64, 67, 0.3), 0px 1px 3px 1px rgba(60, 64, 67, 0.15);\n",
              "      fill: #174EA6;\n",
              "    }\n",
              "\n",
              "    [theme=dark] .colab-df-convert {\n",
              "      background-color: #3B4455;\n",
              "      fill: #D2E3FC;\n",
              "    }\n",
              "\n",
              "    [theme=dark] .colab-df-convert:hover {\n",
              "      background-color: #434B5C;\n",
              "      box-shadow: 0px 1px 3px 1px rgba(0, 0, 0, 0.15);\n",
              "      filter: drop-shadow(0px 1px 2px rgba(0, 0, 0, 0.3));\n",
              "      fill: #FFFFFF;\n",
              "    }\n",
              "  </style>\n",
              "\n",
              "      <script>\n",
              "        const buttonEl =\n",
              "          document.querySelector('#df-fabfd940-8221-4c96-9c9b-c91e27623c3e button.colab-df-convert');\n",
              "        buttonEl.style.display =\n",
              "          google.colab.kernel.accessAllowed ? 'block' : 'none';\n",
              "\n",
              "        async function convertToInteractive(key) {\n",
              "          const element = document.querySelector('#df-fabfd940-8221-4c96-9c9b-c91e27623c3e');\n",
              "          const dataTable =\n",
              "            await google.colab.kernel.invokeFunction('convertToInteractive',\n",
              "                                                     [key], {});\n",
              "          if (!dataTable) return;\n",
              "\n",
              "          const docLinkHtml = 'Like what you see? Visit the ' +\n",
              "            '<a target=\"_blank\" href=https://colab.research.google.com/notebooks/data_table.ipynb>data table notebook</a>'\n",
              "            + ' to learn more about interactive tables.';\n",
              "          element.innerHTML = '';\n",
              "          dataTable['output_type'] = 'display_data';\n",
              "          await google.colab.output.renderOutput(dataTable, element);\n",
              "          const docLink = document.createElement('div');\n",
              "          docLink.innerHTML = docLinkHtml;\n",
              "          element.appendChild(docLink);\n",
              "        }\n",
              "      </script>\n",
              "    </div>\n",
              "  </div>\n",
              "  "
            ]
          },
          "metadata": {},
          "execution_count": 4
        }
      ]
    },
    {
      "cell_type": "markdown",
      "source": [
        "### Convert pandas dataframe to Great Expectation"
      ],
      "metadata": {
        "id": "N6fcjZMAirMt"
      }
    },
    {
      "cell_type": "code",
      "source": [
        "my_df = ge.from_pandas(df)"
      ],
      "metadata": {
        "id": "_FmL333Rix3A"
      },
      "execution_count": null,
      "outputs": []
    },
    {
      "cell_type": "code",
      "source": [
        "type(my_df)"
      ],
      "metadata": {
        "colab": {
          "base_uri": "https://localhost:8080/"
        },
        "id": "gd7lZI-CixE4",
        "outputId": "4056e624-7975-4342-c0fb-70afb929afed"
      },
      "execution_count": null,
      "outputs": [
        {
          "output_type": "execute_result",
          "data": {
            "text/plain": [
              "great_expectations.dataset.pandas_dataset.PandasDataset"
            ]
          },
          "metadata": {},
          "execution_count": 7
        }
      ]
    },
    {
      "cell_type": "code",
      "source": [],
      "metadata": {
        "id": "Ty4OMO56i4jZ"
      },
      "execution_count": null,
      "outputs": []
    },
    {
      "cell_type": "markdown",
      "source": [
        "### GE Data Quality Tests"
      ],
      "metadata": {
        "id": "j1EfX4YajG1K"
      }
    },
    {
      "cell_type": "code",
      "source": [
        "# check number of rows in the dataset\n",
        "my_df.expect_table_row_count_to_equal(1000)"
      ],
      "metadata": {
        "colab": {
          "base_uri": "https://localhost:8080/"
        },
        "id": "UeUt_w_yk0K7",
        "outputId": "be8b1bb5-93b5-4966-f167-605803cd460b"
      },
      "execution_count": null,
      "outputs": [
        {
          "output_type": "execute_result",
          "data": {
            "text/plain": [
              "{\n",
              "  \"expectation_config\": {\n",
              "    \"expectation_type\": \"expect_table_row_count_to_equal\",\n",
              "    \"meta\": {},\n",
              "    \"kwargs\": {\n",
              "      \"value\": 1000,\n",
              "      \"result_format\": \"BASIC\"\n",
              "    }\n",
              "  },\n",
              "  \"exception_info\": {\n",
              "    \"raised_exception\": false,\n",
              "    \"exception_traceback\": null,\n",
              "    \"exception_message\": null\n",
              "  },\n",
              "  \"result\": {\n",
              "    \"observed_value\": 606\n",
              "  },\n",
              "  \"success\": false,\n",
              "  \"meta\": {}\n",
              "}"
            ]
          },
          "metadata": {},
          "execution_count": 9
        }
      ]
    },
    {
      "cell_type": "markdown",
      "source": [
        "### Primary Key Test"
      ],
      "metadata": {
        "id": "aNbiHzg8lJKY"
      }
    },
    {
      "cell_type": "code",
      "source": [
        "my_df.expect_column_to_exist('ProductKey')"
      ],
      "metadata": {
        "colab": {
          "base_uri": "https://localhost:8080/"
        },
        "id": "PkRRlwsxlJ_A",
        "outputId": "d3a6283b-b3ff-4ddb-a3e4-a74761797b3a"
      },
      "execution_count": null,
      "outputs": [
        {
          "output_type": "execute_result",
          "data": {
            "text/plain": [
              "{\n",
              "  \"expectation_config\": {\n",
              "    \"expectation_type\": \"expect_column_to_exist\",\n",
              "    \"meta\": {},\n",
              "    \"kwargs\": {\n",
              "      \"column\": \"ProductKey\",\n",
              "      \"result_format\": \"BASIC\"\n",
              "    }\n",
              "  },\n",
              "  \"exception_info\": {\n",
              "    \"raised_exception\": false,\n",
              "    \"exception_traceback\": null,\n",
              "    \"exception_message\": null\n",
              "  },\n",
              "  \"result\": {},\n",
              "  \"success\": true,\n",
              "  \"meta\": {}\n",
              "}"
            ]
          },
          "metadata": {},
          "execution_count": 10
        }
      ]
    },
    {
      "cell_type": "code",
      "source": [
        "my_df.expect_column_values_to_be_unique('ProductKey')"
      ],
      "metadata": {
        "colab": {
          "base_uri": "https://localhost:8080/"
        },
        "id": "0Ief1OCslO8-",
        "outputId": "f499d062-b9d1-4bbb-97ef-b60191ec4910"
      },
      "execution_count": null,
      "outputs": [
        {
          "output_type": "execute_result",
          "data": {
            "text/plain": [
              "{\n",
              "  \"expectation_config\": {\n",
              "    \"expectation_type\": \"expect_column_values_to_be_unique\",\n",
              "    \"meta\": {},\n",
              "    \"kwargs\": {\n",
              "      \"column\": \"ProductKey\",\n",
              "      \"result_format\": \"BASIC\"\n",
              "    }\n",
              "  },\n",
              "  \"exception_info\": {\n",
              "    \"raised_exception\": false,\n",
              "    \"exception_traceback\": null,\n",
              "    \"exception_message\": null\n",
              "  },\n",
              "  \"result\": {\n",
              "    \"element_count\": 606,\n",
              "    \"missing_count\": 0,\n",
              "    \"missing_percent\": 0.0,\n",
              "    \"unexpected_count\": 0,\n",
              "    \"unexpected_percent\": 0.0,\n",
              "    \"unexpected_percent_total\": 0.0,\n",
              "    \"unexpected_percent_nonmissing\": 0.0,\n",
              "    \"partial_unexpected_list\": []\n",
              "  },\n",
              "  \"success\": true,\n",
              "  \"meta\": {}\n",
              "}"
            ]
          },
          "metadata": {},
          "execution_count": 11
        }
      ]
    },
    {
      "cell_type": "code",
      "source": [
        "my_df.expect_column_values_to_not_be_null('ProductKey')"
      ],
      "metadata": {
        "colab": {
          "base_uri": "https://localhost:8080/"
        },
        "id": "b3jmheNolVf7",
        "outputId": "069a6784-8545-4216-8fed-22279e614cac"
      },
      "execution_count": null,
      "outputs": [
        {
          "output_type": "execute_result",
          "data": {
            "text/plain": [
              "{\n",
              "  \"expectation_config\": {\n",
              "    \"expectation_type\": \"expect_column_values_to_not_be_null\",\n",
              "    \"meta\": {},\n",
              "    \"kwargs\": {\n",
              "      \"column\": \"ProductKey\",\n",
              "      \"result_format\": \"BASIC\"\n",
              "    }\n",
              "  },\n",
              "  \"exception_info\": {\n",
              "    \"raised_exception\": false,\n",
              "    \"exception_traceback\": null,\n",
              "    \"exception_message\": null\n",
              "  },\n",
              "  \"result\": {\n",
              "    \"element_count\": 606,\n",
              "    \"unexpected_count\": 0,\n",
              "    \"unexpected_percent\": 0.0,\n",
              "    \"unexpected_percent_total\": 0.0,\n",
              "    \"partial_unexpected_list\": []\n",
              "  },\n",
              "  \"success\": true,\n",
              "  \"meta\": {}\n",
              "}"
            ]
          },
          "metadata": {},
          "execution_count": 12
        }
      ]
    },
    {
      "cell_type": "code",
      "source": [
        "my_df.expect_column_values_to_be_in_type_list(\"ProductKey\", [\"int\", \"int64\"])"
      ],
      "metadata": {
        "colab": {
          "base_uri": "https://localhost:8080/"
        },
        "id": "32JfVUX0le-k",
        "outputId": "7b22f142-9311-4708-d327-4f86502d25fc"
      },
      "execution_count": null,
      "outputs": [
        {
          "output_type": "execute_result",
          "data": {
            "text/plain": [
              "{\n",
              "  \"expectation_config\": {\n",
              "    \"expectation_type\": \"_expect_column_values_to_be_in_type_list__aggregate\",\n",
              "    \"meta\": {},\n",
              "    \"kwargs\": {\n",
              "      \"column\": \"ProductKey\",\n",
              "      \"type_list\": [\n",
              "        \"int\",\n",
              "        \"int64\"\n",
              "      ],\n",
              "      \"result_format\": \"BASIC\"\n",
              "    }\n",
              "  },\n",
              "  \"exception_info\": {\n",
              "    \"raised_exception\": false,\n",
              "    \"exception_traceback\": null,\n",
              "    \"exception_message\": null\n",
              "  },\n",
              "  \"result\": {\n",
              "    \"observed_value\": \"int64\"\n",
              "  },\n",
              "  \"success\": true,\n",
              "  \"meta\": {}\n",
              "}"
            ]
          },
          "metadata": {},
          "execution_count": 13
        }
      ]
    },
    {
      "cell_type": "code",
      "source": [
        "my_df.expect_column_values_to_be_in_type_list(\"ProductLine\", [\"int\", \"int64\"])"
      ],
      "metadata": {
        "colab": {
          "base_uri": "https://localhost:8080/"
        },
        "id": "fZrS9oKTmToS",
        "outputId": "3c7c4c76-6e36-4944-c414-29979d26cea4"
      },
      "execution_count": null,
      "outputs": [
        {
          "output_type": "execute_result",
          "data": {
            "text/plain": [
              "{\n",
              "  \"expectation_config\": {\n",
              "    \"expectation_type\": \"_expect_column_values_to_be_in_type_list__map\",\n",
              "    \"meta\": {},\n",
              "    \"kwargs\": {\n",
              "      \"column\": \"ProductLine\",\n",
              "      \"type_list\": [\n",
              "        \"int\",\n",
              "        \"int64\"\n",
              "      ],\n",
              "      \"result_format\": \"BASIC\"\n",
              "    }\n",
              "  },\n",
              "  \"exception_info\": {\n",
              "    \"raised_exception\": false,\n",
              "    \"exception_traceback\": null,\n",
              "    \"exception_message\": null\n",
              "  },\n",
              "  \"result\": {\n",
              "    \"element_count\": 606,\n",
              "    \"missing_count\": 226,\n",
              "    \"missing_percent\": 37.29372937293729,\n",
              "    \"unexpected_count\": 380,\n",
              "    \"unexpected_percent\": 100.0,\n",
              "    \"unexpected_percent_total\": 62.70627062706271,\n",
              "    \"unexpected_percent_nonmissing\": 100.0,\n",
              "    \"partial_unexpected_list\": [\n",
              "      \"R \",\n",
              "      \"R \",\n",
              "      \"S \",\n",
              "      \"S \",\n",
              "      \"S \",\n",
              "      \"S \",\n",
              "      \"S \",\n",
              "      \"S \",\n",
              "      \"M \",\n",
              "      \"M \",\n",
              "      \"S \",\n",
              "      \"S \",\n",
              "      \"S \",\n",
              "      \"S \",\n",
              "      \"S \",\n",
              "      \"S \",\n",
              "      \"S \",\n",
              "      \"S \",\n",
              "      \"S \",\n",
              "      \"S \"\n",
              "    ]\n",
              "  },\n",
              "  \"success\": false,\n",
              "  \"meta\": {}\n",
              "}"
            ]
          },
          "metadata": {},
          "execution_count": 16
        }
      ]
    },
    {
      "cell_type": "markdown",
      "source": [
        "### Test values in a set (list)"
      ],
      "metadata": {
        "id": "9uYkN8dsmEfx"
      }
    },
    {
      "cell_type": "code",
      "source": [
        "df.ProductLine.unique()"
      ],
      "metadata": {
        "colab": {
          "base_uri": "https://localhost:8080/"
        },
        "id": "Yc1uLFMamFiv",
        "outputId": "a7b92b6a-2709-498c-9502-4822318e86da"
      },
      "execution_count": null,
      "outputs": [
        {
          "output_type": "execute_result",
          "data": {
            "text/plain": [
              "array([nan, 'R ', 'S ', 'M ', 'T '], dtype=object)"
            ]
          },
          "metadata": {},
          "execution_count": 14
        }
      ]
    },
    {
      "cell_type": "code",
      "source": [
        "my_df.expect_column_values_to_be_in_set(\"ProductLine\", ['R ', 'S ', 'M ', 'T '])"
      ],
      "metadata": {
        "colab": {
          "base_uri": "https://localhost:8080/"
        },
        "id": "VocVC6TimJw1",
        "outputId": "b4fe90c1-7886-40f2-83b8-f69e9691f949"
      },
      "execution_count": null,
      "outputs": [
        {
          "output_type": "execute_result",
          "data": {
            "text/plain": [
              "{\n",
              "  \"expectation_config\": {\n",
              "    \"expectation_type\": \"expect_column_values_to_be_in_set\",\n",
              "    \"meta\": {},\n",
              "    \"kwargs\": {\n",
              "      \"column\": \"ProductLine\",\n",
              "      \"value_set\": [\n",
              "        \"R \",\n",
              "        \"S \",\n",
              "        \"M \",\n",
              "        \"T \"\n",
              "      ],\n",
              "      \"result_format\": \"BASIC\"\n",
              "    }\n",
              "  },\n",
              "  \"exception_info\": {\n",
              "    \"raised_exception\": false,\n",
              "    \"exception_traceback\": null,\n",
              "    \"exception_message\": null\n",
              "  },\n",
              "  \"result\": {\n",
              "    \"element_count\": 606,\n",
              "    \"missing_count\": 226,\n",
              "    \"missing_percent\": 37.29372937293729,\n",
              "    \"unexpected_count\": 0,\n",
              "    \"unexpected_percent\": 0.0,\n",
              "    \"unexpected_percent_total\": 0.0,\n",
              "    \"unexpected_percent_nonmissing\": 0.0,\n",
              "    \"partial_unexpected_list\": []\n",
              "  },\n",
              "  \"success\": true,\n",
              "  \"meta\": {}\n",
              "}"
            ]
          },
          "metadata": {},
          "execution_count": 15
        }
      ]
    },
    {
      "cell_type": "code",
      "source": [
        "my_df.expect_column_values_to_be_in_set(\"Color\", [ 'Black', 'Silver', 'Red', 'White', 'Blue', 'Multi', 'Yellow','Grey', 'Silver'])"
      ],
      "metadata": {
        "colab": {
          "base_uri": "https://localhost:8080/"
        },
        "id": "sdjHPIbRmNTo",
        "outputId": "79aac303-ca87-4923-a8f4-004ea1dfe771"
      },
      "execution_count": null,
      "outputs": [
        {
          "output_type": "execute_result",
          "data": {
            "text/plain": [
              "{\n",
              "  \"expectation_config\": {\n",
              "    \"expectation_type\": \"expect_column_values_to_be_in_set\",\n",
              "    \"meta\": {},\n",
              "    \"kwargs\": {\n",
              "      \"column\": \"Color\",\n",
              "      \"value_set\": [\n",
              "        \"Black\",\n",
              "        \"Silver\",\n",
              "        \"Red\",\n",
              "        \"White\",\n",
              "        \"Blue\",\n",
              "        \"Multi\",\n",
              "        \"Yellow\",\n",
              "        \"Grey\",\n",
              "        \"Silver\"\n",
              "      ],\n",
              "      \"result_format\": \"BASIC\"\n",
              "    }\n",
              "  },\n",
              "  \"exception_info\": {\n",
              "    \"raised_exception\": false,\n",
              "    \"exception_traceback\": null,\n",
              "    \"exception_message\": null\n",
              "  },\n",
              "  \"result\": {\n",
              "    \"element_count\": 606,\n",
              "    \"missing_count\": 254,\n",
              "    \"missing_percent\": 41.914191419141915,\n",
              "    \"unexpected_count\": 7,\n",
              "    \"unexpected_percent\": 1.9886363636363635,\n",
              "    \"unexpected_percent_total\": 1.155115511551155,\n",
              "    \"unexpected_percent_nonmissing\": 1.9886363636363635,\n",
              "    \"partial_unexpected_list\": [\n",
              "      \"Silver/Black\",\n",
              "      \"Silver/Black\",\n",
              "      \"Silver/Black\",\n",
              "      \"Silver/Black\",\n",
              "      \"Silver/Black\",\n",
              "      \"Silver/Black\",\n",
              "      \"Silver/Black\"\n",
              "    ]\n",
              "  },\n",
              "  \"success\": false,\n",
              "  \"meta\": {}\n",
              "}"
            ]
          },
          "metadata": {},
          "execution_count": 17
        }
      ]
    },
    {
      "cell_type": "markdown",
      "source": [
        "### Check min and Max range of column"
      ],
      "metadata": {
        "id": "_iKYiYg7uZxi"
      }
    },
    {
      "cell_type": "code",
      "source": [
        "df.SafetyStockLevel.unique()"
      ],
      "metadata": {
        "colab": {
          "base_uri": "https://localhost:8080/"
        },
        "id": "EI6LsxdIuYx5",
        "outputId": "9e156b48-eda6-4f8d-a021-3fd11e360645"
      },
      "execution_count": null,
      "outputs": [
        {
          "output_type": "execute_result",
          "data": {
            "text/plain": [
              "array([1000,  800,  500,   60,    4,  100])"
            ]
          },
          "metadata": {},
          "execution_count": 19
        }
      ]
    },
    {
      "cell_type": "code",
      "source": [
        "my_df.expect_column_max_to_be_between(\"SafetyStockLevel\", 1, 1000)"
      ],
      "metadata": {
        "colab": {
          "base_uri": "https://localhost:8080/"
        },
        "id": "iTBXyzHOuhYN",
        "outputId": "658eea72-142e-4009-cf0e-3ad230c2f684"
      },
      "execution_count": null,
      "outputs": [
        {
          "output_type": "execute_result",
          "data": {
            "text/plain": [
              "{\n",
              "  \"expectation_config\": {\n",
              "    \"expectation_type\": \"expect_column_max_to_be_between\",\n",
              "    \"meta\": {},\n",
              "    \"kwargs\": {\n",
              "      \"column\": \"SafetyStockLevel\",\n",
              "      \"min_value\": 1,\n",
              "      \"max_value\": 1000,\n",
              "      \"result_format\": \"BASIC\"\n",
              "    }\n",
              "  },\n",
              "  \"exception_info\": {\n",
              "    \"raised_exception\": false,\n",
              "    \"exception_traceback\": null,\n",
              "    \"exception_message\": null\n",
              "  },\n",
              "  \"result\": {\n",
              "    \"observed_value\": 1000,\n",
              "    \"element_count\": 606,\n",
              "    \"missing_count\": null,\n",
              "    \"missing_percent\": null\n",
              "  },\n",
              "  \"success\": true,\n",
              "  \"meta\": {}\n",
              "}"
            ]
          },
          "metadata": {},
          "execution_count": 20
        }
      ]
    },
    {
      "cell_type": "code",
      "source": [
        "my_df.expect_column_max_to_be_between(\"DaysToManufacture\", 1, 10)"
      ],
      "metadata": {
        "colab": {
          "base_uri": "https://localhost:8080/"
        },
        "id": "yM1c6fXIumgU",
        "outputId": "995816bb-59c7-4101-c402-941cc5a41337"
      },
      "execution_count": null,
      "outputs": [
        {
          "output_type": "execute_result",
          "data": {
            "text/plain": [
              "{\n",
              "  \"expectation_config\": {\n",
              "    \"expectation_type\": \"expect_column_max_to_be_between\",\n",
              "    \"meta\": {},\n",
              "    \"kwargs\": {\n",
              "      \"column\": \"DaysToManufacture\",\n",
              "      \"min_value\": 1,\n",
              "      \"max_value\": 10,\n",
              "      \"result_format\": \"BASIC\"\n",
              "    }\n",
              "  },\n",
              "  \"exception_info\": {\n",
              "    \"raised_exception\": false,\n",
              "    \"exception_traceback\": null,\n",
              "    \"exception_message\": null\n",
              "  },\n",
              "  \"result\": {\n",
              "    \"observed_value\": 4,\n",
              "    \"element_count\": 606,\n",
              "    \"missing_count\": null,\n",
              "    \"missing_percent\": null\n",
              "  },\n",
              "  \"success\": true,\n",
              "  \"meta\": {}\n",
              "}"
            ]
          },
          "metadata": {},
          "execution_count": 21
        }
      ]
    },
    {
      "cell_type": "code",
      "source": [
        "my_df.expect_column_mean_to_be_between(\"StandardCost\", 100, 500)"
      ],
      "metadata": {
        "colab": {
          "base_uri": "https://localhost:8080/"
        },
        "id": "oBFskyMGuubW",
        "outputId": "b41a9ff4-2b08-493b-dc30-b5f5d31bde73"
      },
      "execution_count": null,
      "outputs": [
        {
          "output_type": "execute_result",
          "data": {
            "text/plain": [
              "{\n",
              "  \"expectation_config\": {\n",
              "    \"expectation_type\": \"expect_column_mean_to_be_between\",\n",
              "    \"meta\": {},\n",
              "    \"kwargs\": {\n",
              "      \"column\": \"StandardCost\",\n",
              "      \"min_value\": 100,\n",
              "      \"max_value\": 500,\n",
              "      \"result_format\": \"BASIC\"\n",
              "    }\n",
              "  },\n",
              "  \"exception_info\": {\n",
              "    \"raised_exception\": false,\n",
              "    \"exception_traceback\": null,\n",
              "    \"exception_message\": null\n",
              "  },\n",
              "  \"result\": {\n",
              "    \"observed_value\": 434.2658288607594,\n",
              "    \"element_count\": 606,\n",
              "    \"missing_count\": 211,\n",
              "    \"missing_percent\": 34.81848184818482\n",
              "  },\n",
              "  \"success\": true,\n",
              "  \"meta\": {}\n",
              "}"
            ]
          },
          "metadata": {},
          "execution_count": 22
        }
      ]
    },
    {
      "cell_type": "code",
      "source": [],
      "metadata": {
        "id": "Thskg7x-uyy-"
      },
      "execution_count": null,
      "outputs": []
    },
    {
      "cell_type": "markdown",
      "source": [
        "### Test Text columns (Nulls)"
      ],
      "metadata": {
        "id": "gZfKVzEhu2Bf"
      }
    },
    {
      "cell_type": "code",
      "source": [
        "my_df.expect_column_values_to_not_be_null('EnglishProductName')"
      ],
      "metadata": {
        "colab": {
          "base_uri": "https://localhost:8080/"
        },
        "id": "rCOfS3Nuu2yE",
        "outputId": "9ab1b11b-0e70-43e6-92a7-c3b3b51e5cdf"
      },
      "execution_count": null,
      "outputs": [
        {
          "output_type": "execute_result",
          "data": {
            "text/plain": [
              "{\n",
              "  \"expectation_config\": {\n",
              "    \"expectation_type\": \"expect_column_values_to_not_be_null\",\n",
              "    \"meta\": {},\n",
              "    \"kwargs\": {\n",
              "      \"column\": \"EnglishProductName\",\n",
              "      \"result_format\": \"BASIC\"\n",
              "    }\n",
              "  },\n",
              "  \"exception_info\": {\n",
              "    \"raised_exception\": false,\n",
              "    \"exception_traceback\": null,\n",
              "    \"exception_message\": null\n",
              "  },\n",
              "  \"result\": {\n",
              "    \"element_count\": 606,\n",
              "    \"unexpected_count\": 0,\n",
              "    \"unexpected_percent\": 0.0,\n",
              "    \"unexpected_percent_total\": 0.0,\n",
              "    \"partial_unexpected_list\": []\n",
              "  },\n",
              "  \"success\": true,\n",
              "  \"meta\": {}\n",
              "}"
            ]
          },
          "metadata": {},
          "execution_count": 23
        }
      ]
    },
    {
      "cell_type": "code",
      "source": [
        "my_df.expect_column_values_to_not_be_null(\"Color\", mostly=0.55)"
      ],
      "metadata": {
        "colab": {
          "base_uri": "https://localhost:8080/"
        },
        "id": "NbvGJy6_u56V",
        "outputId": "69527289-74ad-4510-f0b1-0bdeeada0b1e"
      },
      "execution_count": null,
      "outputs": [
        {
          "output_type": "execute_result",
          "data": {
            "text/plain": [
              "{\n",
              "  \"expectation_config\": {\n",
              "    \"expectation_type\": \"expect_column_values_to_not_be_null\",\n",
              "    \"meta\": {},\n",
              "    \"kwargs\": {\n",
              "      \"column\": \"Color\",\n",
              "      \"mostly\": 0.55,\n",
              "      \"result_format\": \"BASIC\"\n",
              "    }\n",
              "  },\n",
              "  \"exception_info\": {\n",
              "    \"raised_exception\": false,\n",
              "    \"exception_traceback\": null,\n",
              "    \"exception_message\": null\n",
              "  },\n",
              "  \"result\": {\n",
              "    \"element_count\": 606,\n",
              "    \"unexpected_count\": 254,\n",
              "    \"unexpected_percent\": 41.914191419141915,\n",
              "    \"unexpected_percent_total\": 41.914191419141915,\n",
              "    \"partial_unexpected_list\": []\n",
              "  },\n",
              "  \"success\": true,\n",
              "  \"meta\": {}\n",
              "}"
            ]
          },
          "metadata": {},
          "execution_count": 24
        }
      ]
    },
    {
      "cell_type": "code",
      "source": [],
      "metadata": {
        "id": "FPOjLQ3KvCvK"
      },
      "execution_count": null,
      "outputs": []
    },
    {
      "cell_type": "markdown",
      "source": [
        "### Save your test cases and re-use"
      ],
      "metadata": {
        "id": "-_K_s5gDvF-_"
      }
    },
    {
      "cell_type": "code",
      "source": [
        "my_df.save_expectation_suite()"
      ],
      "metadata": {
        "colab": {
          "base_uri": "https://localhost:8080/",
          "height": 304
        },
        "id": "7YbSf87LvG0s",
        "outputId": "f91dfce7-404f-4dcd-e4db-3fb1f10fee6b"
      },
      "execution_count": null,
      "outputs": [
        {
          "output_type": "error",
          "ename": "ValueError",
          "evalue": "ignored",
          "traceback": [
            "\u001b[0;31m---------------------------------------------------------------------------\u001b[0m",
            "\u001b[0;31mValueError\u001b[0m                                Traceback (most recent call last)",
            "\u001b[0;32m<ipython-input-35-8ba875d7c40d>\u001b[0m in \u001b[0;36m<cell line: 1>\u001b[0;34m()\u001b[0m\n\u001b[0;32m----> 1\u001b[0;31m \u001b[0mmy_df\u001b[0m\u001b[0;34m.\u001b[0m\u001b[0msave_expectation_suite\u001b[0m\u001b[0;34m(\u001b[0m\u001b[0;34m)\u001b[0m\u001b[0;34m\u001b[0m\u001b[0;34m\u001b[0m\u001b[0m\n\u001b[0m",
            "\u001b[0;32m/usr/local/lib/python3.10/dist-packages/great_expectations/data_asset/data_asset.py\u001b[0m in \u001b[0;36msave_expectation_suite\u001b[0;34m(self, filepath, discard_failed_expectations, discard_result_format_kwargs, discard_include_config_kwargs, discard_catch_exceptions_kwargs, suppress_warnings)\u001b[0m\n\u001b[1;32m    629\u001b[0m                 )\n\u001b[1;32m    630\u001b[0m         \u001b[0;32melse\u001b[0m\u001b[0;34m:\u001b[0m\u001b[0;34m\u001b[0m\u001b[0;34m\u001b[0m\u001b[0m\n\u001b[0;32m--> 631\u001b[0;31m             raise ValueError(\n\u001b[0m\u001b[1;32m    632\u001b[0m                 \u001b[0;34m\"Unable to save config: filepath or data_context must be available.\"\u001b[0m\u001b[0;34m\u001b[0m\u001b[0;34m\u001b[0m\u001b[0m\n\u001b[1;32m    633\u001b[0m             )\n",
            "\u001b[0;31mValueError\u001b[0m: Unable to save config: filepath or data_context must be available."
          ]
        }
      ]
    },
    {
      "cell_type": "code",
      "source": [
        "path_to_empty_folder = '/content/'\n",
        "from great_expectations.data_context import FileDataContext\n",
        "context = FileDataContext.create(project_root_dir=path_to_empty_folder)"
      ],
      "metadata": {
        "id": "I3xpoYAg5Hg4"
      },
      "execution_count": null,
      "outputs": []
    },
    {
      "cell_type": "code",
      "source": [
        "/content/sample_data/anscombe.json"
      ],
      "metadata": {
        "id": "HDpJ5iNqvLdp"
      },
      "execution_count": null,
      "outputs": []
    },
    {
      "cell_type": "code",
      "source": [
        "jsonschema_file = \"/content/sample_data/DQ_TEST.json\"\n",
        "suite_name = \"SAMPLE_DQ_SUITE\"\n",
        "\n",
        "# context = ge.data_context.DataContext()\n",
        "\n",
        "with open(jsonschema_file, \"r\") as f:\n",
        "    raw_json = f.read()\n",
        "    schema = json.loads(raw_json)\n",
        "\n",
        "print(\"Generating suite...\")\n",
        "profiler = JsonSchemaProfiler()\n",
        "suite = profiler.profile(schema, suite_name)\n",
        "context.save_expectation_suite(suite)"
      ],
      "metadata": {
        "colab": {
          "base_uri": "https://localhost:8080/",
          "height": 415
        },
        "id": "pweL5a2_xJ2h",
        "outputId": "7227d5f7-03cb-434b-dd76-3c2ccb486866"
      },
      "execution_count": null,
      "outputs": [
        {
          "output_type": "error",
          "ename": "ConfigNotFoundError",
          "evalue": "ignored",
          "traceback": [
            "\u001b[0;31m---------------------------------------------------------------------------\u001b[0m",
            "\u001b[0;31mConfigNotFoundError\u001b[0m                       Traceback (most recent call last)",
            "\u001b[0;32m<ipython-input-29-579d6c30e1c8>\u001b[0m in \u001b[0;36m<cell line: 4>\u001b[0;34m()\u001b[0m\n\u001b[1;32m      2\u001b[0m \u001b[0msuite_name\u001b[0m \u001b[0;34m=\u001b[0m \u001b[0;34m\"SAMPLE_DQ_SUITE\"\u001b[0m\u001b[0;34m\u001b[0m\u001b[0;34m\u001b[0m\u001b[0m\n\u001b[1;32m      3\u001b[0m \u001b[0;34m\u001b[0m\u001b[0m\n\u001b[0;32m----> 4\u001b[0;31m \u001b[0mcontext\u001b[0m \u001b[0;34m=\u001b[0m \u001b[0mge\u001b[0m\u001b[0;34m.\u001b[0m\u001b[0mdata_context\u001b[0m\u001b[0;34m.\u001b[0m\u001b[0mDataContext\u001b[0m\u001b[0;34m(\u001b[0m\u001b[0;34m)\u001b[0m\u001b[0;34m\u001b[0m\u001b[0;34m\u001b[0m\u001b[0m\n\u001b[0m\u001b[1;32m      5\u001b[0m \u001b[0;34m\u001b[0m\u001b[0m\n\u001b[1;32m      6\u001b[0m \u001b[0;32mwith\u001b[0m \u001b[0mopen\u001b[0m\u001b[0;34m(\u001b[0m\u001b[0mjsonschema_file\u001b[0m\u001b[0;34m,\u001b[0m \u001b[0;34m\"r\"\u001b[0m\u001b[0;34m)\u001b[0m \u001b[0;32mas\u001b[0m \u001b[0mf\u001b[0m\u001b[0;34m:\u001b[0m\u001b[0;34m\u001b[0m\u001b[0;34m\u001b[0m\u001b[0m\n",
            "\u001b[0;32m/usr/local/lib/python3.10/dist-packages/great_expectations/data_context/data_context/data_context.py\u001b[0m in \u001b[0;36mDataContext\u001b[0;34m(context_root_dir, runtime_environment, cloud_mode, cloud_base_url, cloud_access_token, cloud_organization_id, ge_cloud_mode, ge_cloud_base_url, ge_cloud_access_token, ge_cloud_organization_id)\u001b[0m\n\u001b[1;32m    156\u001b[0m     )\n\u001b[1;32m    157\u001b[0m \u001b[0;34m\u001b[0m\u001b[0m\n\u001b[0;32m--> 158\u001b[0;31m     context_root_directory = _init_context_root_directory(\n\u001b[0m\u001b[1;32m    159\u001b[0m         \u001b[0mcloud_mode\u001b[0m\u001b[0;34m=\u001b[0m\u001b[0mcloud_mode\u001b[0m\u001b[0;34m,\u001b[0m\u001b[0;34m\u001b[0m\u001b[0;34m\u001b[0m\u001b[0m\n\u001b[1;32m    160\u001b[0m         \u001b[0mcontext_root_dir\u001b[0m\u001b[0;34m=\u001b[0m\u001b[0mcontext_root_dir\u001b[0m\u001b[0;34m,\u001b[0m\u001b[0;34m\u001b[0m\u001b[0;34m\u001b[0m\u001b[0m\n",
            "\u001b[0;32m/usr/local/lib/python3.10/dist-packages/great_expectations/data_context/data_context/data_context.py\u001b[0m in \u001b[0;36m_init_context_root_directory\u001b[0;34m(cloud_mode, context_root_dir)\u001b[0m\n\u001b[1;32m    237\u001b[0m     \u001b[0;32melse\u001b[0m\u001b[0;34m:\u001b[0m\u001b[0;34m\u001b[0m\u001b[0;34m\u001b[0m\u001b[0m\n\u001b[1;32m    238\u001b[0m         context_root_dir = (\n\u001b[0;32m--> 239\u001b[0;31m             \u001b[0mSerializableDataContext\u001b[0m\u001b[0;34m.\u001b[0m\u001b[0mfind_context_root_dir\u001b[0m\u001b[0;34m(\u001b[0m\u001b[0;34m)\u001b[0m\u001b[0;34m\u001b[0m\u001b[0;34m\u001b[0m\u001b[0m\n\u001b[0m\u001b[1;32m    240\u001b[0m             \u001b[0;32mif\u001b[0m \u001b[0mcontext_root_dir\u001b[0m \u001b[0;32mis\u001b[0m \u001b[0;32mNone\u001b[0m\u001b[0;34m\u001b[0m\u001b[0;34m\u001b[0m\u001b[0m\n\u001b[1;32m    241\u001b[0m             \u001b[0;32melse\u001b[0m \u001b[0mcontext_root_dir\u001b[0m\u001b[0;34m\u001b[0m\u001b[0;34m\u001b[0m\u001b[0m\n",
            "\u001b[0;32m/usr/local/lib/python3.10/dist-packages/great_expectations/data_context/data_context/serializable_data_context.py\u001b[0m in \u001b[0;36mfind_context_root_dir\u001b[0;34m(cls)\u001b[0m\n\u001b[1;32m    345\u001b[0m \u001b[0;34m\u001b[0m\u001b[0m\n\u001b[1;32m    346\u001b[0m         \u001b[0;32mif\u001b[0m \u001b[0mresult\u001b[0m \u001b[0;32mis\u001b[0m \u001b[0;32mNone\u001b[0m\u001b[0;34m:\u001b[0m\u001b[0;34m\u001b[0m\u001b[0;34m\u001b[0m\u001b[0m\n\u001b[0;32m--> 347\u001b[0;31m             \u001b[0;32mraise\u001b[0m \u001b[0mgx_exceptions\u001b[0m\u001b[0;34m.\u001b[0m\u001b[0mConfigNotFoundError\u001b[0m\u001b[0;34m(\u001b[0m\u001b[0;34m)\u001b[0m\u001b[0;34m\u001b[0m\u001b[0;34m\u001b[0m\u001b[0m\n\u001b[0m\u001b[1;32m    348\u001b[0m \u001b[0;34m\u001b[0m\u001b[0m\n\u001b[1;32m    349\u001b[0m         \u001b[0mlogger\u001b[0m\u001b[0;34m.\u001b[0m\u001b[0mdebug\u001b[0m\u001b[0;34m(\u001b[0m\u001b[0;34mf\"Using project config: {yml_path}\"\u001b[0m\u001b[0;34m)\u001b[0m\u001b[0;34m\u001b[0m\u001b[0;34m\u001b[0m\u001b[0m\n",
            "\u001b[0;31mConfigNotFoundError\u001b[0m: Error: No great_expectations directory was found here!\n    - Please check that you are in the correct directory or have specified the correct directory.\n    - If you have never run Great Expectations in this project, please run `great_expectations init` to get started.\n"
          ]
        }
      ]
    },
    {
      "cell_type": "code",
      "source": [
        "great_expectations init"
      ],
      "metadata": {
        "colab": {
          "base_uri": "https://localhost:8080/",
          "height": 130
        },
        "id": "2FTvxh8-yJ6W",
        "outputId": "8db832c3-ec86-4c8a-aeab-8ac0e15623e0"
      },
      "execution_count": null,
      "outputs": [
        {
          "output_type": "error",
          "ename": "SyntaxError",
          "evalue": "ignored",
          "traceback": [
            "\u001b[0;36m  File \u001b[0;32m\"<ipython-input-33-7d3c2fe59c21>\"\u001b[0;36m, line \u001b[0;32m1\u001b[0m\n\u001b[0;31m    great_expectations init\u001b[0m\n\u001b[0m                       ^\u001b[0m\n\u001b[0;31mSyntaxError\u001b[0m\u001b[0;31m:\u001b[0m invalid syntax\n"
          ]
        }
      ]
    },
    {
      "cell_type": "code",
      "source": [],
      "metadata": {
        "id": "_1JI_-GX4Tdm"
      },
      "execution_count": null,
      "outputs": []
    }
  ]
}